{
 "cells": [
  {
   "cell_type": "code",
   "execution_count": 6,
   "metadata": {},
   "outputs": [],
   "source": [
    "#from  scapy.all import *\n",
    "import nest_asyncio\n",
    "nest_asyncio.apply()\n",
    "import pandas as pd\n",
    "from scapy.all import *\n",
    "#files name in pcap direcoty \n",
    "import glob"
   ]
  },
  {
   "cell_type": "code",
   "execution_count": 7,
   "metadata": {},
   "outputs": [],
   "source": [
    "#Take all split values from folder, that I just done above"
   ]
  },
  {
   "cell_type": "code",
   "execution_count": 8,
   "metadata": {},
   "outputs": [],
   "source": [
    "name = 'logistic'"
   ]
  },
  {
   "cell_type": "code",
   "execution_count": 9,
   "metadata": {},
   "outputs": [],
   "source": [
    "#split_files = glob.glob(\"NF_exponential/*.pcap\")\n",
    "split_files = glob.glob(\"NF_\"+name+\"/*.pcap\")"
   ]
  },
  {
   "cell_type": "code",
   "execution_count": 10,
   "metadata": {},
   "outputs": [
    {
     "data": {
      "text/plain": [
       "['NF_logistic/1_host_5_logistic_2.pcap',\n",
       " 'NF_logistic/1_host_5_logistic_1.pcap']"
      ]
     },
     "execution_count": 10,
     "metadata": {},
     "output_type": "execute_result"
    }
   ],
   "source": [
    "split_files"
   ]
  },
  {
   "cell_type": "code",
   "execution_count": 11,
   "metadata": {},
   "outputs": [],
   "source": [
    "total_split_files = len(split_files)"
   ]
  },
  {
   "cell_type": "code",
   "execution_count": 12,
   "metadata": {},
   "outputs": [
    {
     "data": {
      "text/plain": [
       "2"
      ]
     },
     "execution_count": 12,
     "metadata": {},
     "output_type": "execute_result"
    }
   ],
   "source": [
    "total_split_files"
   ]
  },
  {
   "cell_type": "code",
   "execution_count": 13,
   "metadata": {},
   "outputs": [],
   "source": [
    "names = split_files[0].split('.')\n"
   ]
  },
  {
   "cell_type": "code",
   "execution_count": 14,
   "metadata": {},
   "outputs": [],
   "source": [
    "node_number = names[0].split('/')"
   ]
  },
  {
   "cell_type": "code",
   "execution_count": 15,
   "metadata": {},
   "outputs": [
    {
     "data": {
      "text/plain": [
       "'1_host_5_logistic_2'"
      ]
     },
     "execution_count": 15,
     "metadata": {},
     "output_type": "execute_result"
    }
   ],
   "source": [
    "node_number[1]"
   ]
  },
  {
   "cell_type": "code",
   "execution_count": null,
   "metadata": {},
   "outputs": [],
   "source": []
  },
  {
   "cell_type": "code",
   "execution_count": null,
   "metadata": {},
   "outputs": [],
   "source": []
  },
  {
   "cell_type": "code",
   "execution_count": 17,
   "metadata": {
    "scrolled": true
   },
   "outputs": [
    {
     "name": "stdout",
     "output_type": "stream",
     "text": [
      "NF_logistic/1_host_5_logistic_2.pcap\n",
      "Done\n",
      "NF_logistic/1_host_5_logistic_1.pcap\n",
      "Done\n"
     ]
    }
   ],
   "source": [
    "for s_files in range(total_split_files):\n",
    "    print(split_files[s_files])\n",
    "    pcap =rdpcap(split_files[s_files])\n",
    "    reset= []\n",
    "    for p in pcap:\n",
    "        if p.haslayer(TCP) and (p[TCP].flags == 'RA' or p[TCP].flags == 'R') : #reset,ack or reset flag RA mean both reset and ack\n",
    "            if p[IP].src == '192.168.0.150': #server port\n",
    "                #print(\"2015-----\")\n",
    "                #print(p[TCP].sport)\n",
    "                #print(p[TCP].dport)\n",
    "                reset.append(p[TCP].dport)\n",
    "            else:\n",
    "                #print(\"not 2015---\")\n",
    "                reset.append(p[TCP].sport)\n",
    "                #print(p[TCP].sport)\n",
    "                #print(p[TCP].dport)\n",
    "            \n",
    "    #head= []\n",
    "\n",
    "    #for p in pcap:\n",
    "        #if p.haslayer(TCP): \n",
    "            #if Raw in p[TCP]:\n",
    "                #raw = str(p[Raw])\n",
    "                #if 'HEAD' in raw:\n",
    "                    #head.append(p[TCP].sport)   \n",
    "\n",
    "#print(head)\n",
    "\n",
    "\n",
    "    connection=[]; connection_sip=[]; connection_dip=[]; connection_sport=[]; connection_sip=[]\n",
    "    c=0\n",
    "    #pcap[1].show()  \n",
    "    extra=0; segg=1; array=[]; array2=[]\n",
    "    for ppp in pcap:\n",
    "        # Select full connection except reset and head connection \n",
    "        if (ppp.haslayer(TCP)) and ( ppp[TCP].sport not in reset):\n",
    "            #print('fuu'+str(ppp[TCP].sport))\n",
    "            if Raw in ppp[TCP]:\n",
    "                if(ppp[IP].dst == '192.168.0.150'):# server ip\n",
    "                    if 'GET' in str(ppp[Raw]):\n",
    "                        connection.append(c)\n",
    "                        c=c+1\n",
    "                        connection_sip.append(ppp[IP].src)\n",
    "                        connection_sport.append(ppp[TCP].sport)\n",
    "                        if (\"sintel_enc_x264_dash.mpd\" in str(ppp[Raw]) or \"sintel_enc_x264_dash_init.mp4\"  in str(ppp[Raw])):\n",
    "                                extra=extra+1\n",
    "                        #elif 'segment'+str(segg) in str(ppp[Raw]):\n",
    "                         #           array.append(ppp[TCP].sport)\n",
    "                          #          segg=segg+1\n",
    "                        #else:\n",
    "                            #array2.append(segg)\n",
    "                            #segg=segg+1\n",
    "                            #continue\n",
    "                        #print(array)\n",
    "                        #print(segg)\n",
    "    #print(extra)                  \n",
    "    conn=[] ;ij=extra-1;ik=0            \n",
    "    conn=sorted(list(set(connection_sport)))                    \n",
    "    for q in range(len(conn)-extra):\n",
    "         for qq in pcap:\n",
    "            if  qq.haslayer(TCP) and ((qq[TCP].sport == conn[q+extra])):\n",
    "                 if Raw in qq[TCP]:\n",
    "                    if(qq[IP].dst == '192.168.0.150'):# server ip\n",
    "                        if 'GET' in str(qq[Raw]):\n",
    "                                #print(str((q+extra)-ij) )\n",
    "                                if ((q+extra)-ij)>59:\n",
    "                                    break\n",
    "                                if 'segment'+str((q+extra)-ij) in str(qq[Raw]):\n",
    "                                    array.append(qq[TCP].sport)\n",
    "                                    #print(str((q+extra)-ij) )\n",
    "                                    #print(\"conn:\"+str(conn[(q+extra)-ij]))\n",
    "                                    #print(array)\n",
    "                                    segg=segg+1\n",
    "                                    #ij=3\n",
    "                                #print(segg)\n",
    "                                #perint\n",
    "                                else:\n",
    "                                    ik=ik+1\n",
    "                                    array2.append((q+extra)-ij)\n",
    "                                    ij=extra-(1+ik)\n",
    "    df= pd.DataFrame(columns=['Port','Segment','RTT','Throughput', 'Packets'])# rtt=uplink ms, th=downlink byte per sec, sp= downlink packets\n",
    "\n",
    "    t1=0;t2=0;l=0;inner =True;k=0;b=True;s=0;\n",
    "\n",
    "    i=1; \n",
    "    length= (len(connection))-extra\n",
    "    #print(extra)\n",
    "    #print(length)\n",
    "    m=extra\n",
    "    for j in range(len(conn)-m):\n",
    "        pac1= True;pac= True; ttt=True;f=True; c=0;tc= True; r1=0; initrtt=0; r2=0;  inner=True; inner2=False;httprtt=0; aaa=0;summ=0;l=0;tspop=0\n",
    "        for p in pcap:\n",
    "            if p.haslayer(TCP) and (p[TCP].sport == conn[j+m] or p[TCP].dport== conn[j+m]):\n",
    "                if pac:\n",
    "                    p1_t=p.time\n",
    "                    pac=False\n",
    "                if(p[IP].dst == connection_sip[1]):  \n",
    "                    if(  p[TCP].flags == 'SA'):\n",
    "                        if(tc==True):\n",
    "                            p2_t= p.time\n",
    "                            initrtt= (p2_t - p1_t) * 1000\n",
    "                            #print(\"initrtt\" + str(initrtt))\n",
    "                            tc=False\n",
    "\n",
    "                if  p[IP].src == connection_sip[j+m] and pac1 and  Raw in p[TCP]:\n",
    "                                                    #if (segment in str(p[Raw])):\n",
    "                    r1 = p.time\n",
    "                    #print('r1---'+ str(r1))\n",
    "                    pac1 = False\n",
    "                    #print(p[IP].src)\n",
    "\n",
    "                if p[IP].dst == connection_sip[j+m]:\n",
    "\n",
    "                        if Raw in p[TCP]:\n",
    "                            l=l+int(len(p[Raw]))\n",
    "                            if len(p[TCP]) > 32:\n",
    "                                    pcakets=p[TCP]\n",
    "                                    tstop=p.time\n",
    "                                    c=c+1  \n",
    "\n",
    "                        if ttt and (p[TCP].flags == 'A' or p[TCP].flags == 'PA'):\n",
    "                            r2=p.time\n",
    "                            httprtt= r2 - r1\n",
    "                            #print('r2---'+ str(r2))\n",
    "                            aaa= httprtt * 1000\n",
    "                            summ= (initrtt+aaa)/2\n",
    "                            ttt=False    \n",
    "\n",
    "                if p[TCP].flags == 'FA':# \n",
    "                    th=float(l/(tstop-r1))\n",
    "                    if j+m in array2:\n",
    "                        i=i+1\n",
    "                        continue\n",
    "\n",
    "\n",
    "                    #df.loc[i]=[aaa ,th ,c ]\n",
    "                    df = df.append(pd.Series([conn[j+m], i, aaa ,th ,c], index=df.columns ), ignore_index=True)\n",
    "                    i=i+1\n",
    "                    #print(df)\n",
    "\n",
    "                    break\n",
    "    names = split_files[s_files].split('.')\n",
    "\n",
    "    node_number = names[0].split('/')\n",
    "        \n",
    "    \n",
    "    export_csv = df.to_csv (\"NF_\"+name+\"/qos_\"+name+\"/\"+node_number[1]+\".csv\", index = None, header=True) #Don't forget   \n",
    "    print('Done') "
   ]
  },
  {
   "cell_type": "code",
   "execution_count": null,
   "metadata": {},
   "outputs": [],
   "source": []
  },
  {
   "cell_type": "code",
   "execution_count": null,
   "metadata": {},
   "outputs": [],
   "source": []
  },
  {
   "cell_type": "code",
   "execution_count": null,
   "metadata": {},
   "outputs": [],
   "source": []
  },
  {
   "cell_type": "code",
   "execution_count": null,
   "metadata": {},
   "outputs": [],
   "source": []
  }
 ],
 "metadata": {
  "kernelspec": {
   "display_name": "Python 3",
   "language": "python",
   "name": "python3"
  },
  "language_info": {
   "codemirror_mode": {
    "name": "ipython",
    "version": 3
   },
   "file_extension": ".py",
   "mimetype": "text/x-python",
   "name": "python",
   "nbconvert_exporter": "python",
   "pygments_lexer": "ipython3",
   "version": "3.8.3"
  }
 },
 "nbformat": 4,
 "nbformat_minor": 4
}
